{
 "cells": [
  {
   "cell_type": "markdown",
   "metadata": {},
   "source": [
    "# Import Libraries Used"
   ]
  },
  {
   "cell_type": "code",
   "execution_count": 85,
   "metadata": {
    "collapsed": true
   },
   "outputs": [],
   "source": [
    "%matplotlib inline\n",
    "import pandas as pd\n",
    "import numpy as np\n",
    "from sklearn import preprocessing\n",
    "from sklearn.model_selection import train_test_split, KFold, cross_val_score\n",
    "from sklearn.linear_model import LogisticRegression\n",
    "import numpy as np\n",
    "import matplotlib.pyplot as plt\n",
    "import seaborn as sns\n",
    "import pylab\n",
    "from mpl_toolkits.mplot3d import Axes3D\n",
    "from Utilities.plot import histvstarget, distribution"
   ]
  },
  {
   "cell_type": "markdown",
   "metadata": {},
   "source": [
    "# Import the data"
   ]
  },
  {
   "cell_type": "markdown",
   "metadata": {},
   "source": [
    "Remember from the data exploration notebook that we now have three different data sets now, the original, one with PCA and one with attribute selection using BFE."
   ]
  },
  {
   "cell_type": "markdown",
   "metadata": {},
   "source": [
    "First lets take 20% of the data out to be used as a joint test-set."
   ]
  },
  {
   "cell_type": "code",
   "execution_count": 86,
   "metadata": {
    "collapsed": false
   },
   "outputs": [
    {
     "data": {
      "text/html": [
       "<div>\n",
       "<style>\n",
       "    .dataframe thead tr:only-child th {\n",
       "        text-align: right;\n",
       "    }\n",
       "\n",
       "    .dataframe thead th {\n",
       "        text-align: left;\n",
       "    }\n",
       "\n",
       "    .dataframe tbody tr th {\n",
       "        vertical-align: top;\n",
       "    }\n",
       "</style>\n",
       "<table border=\"1\" class=\"dataframe\">\n",
       "  <thead>\n",
       "    <tr style=\"text-align: right;\">\n",
       "      <th></th>\n",
       "      <th>Pregnancies</th>\n",
       "      <th>Glucose</th>\n",
       "      <th>BloodPressure</th>\n",
       "      <th>SkinThickness</th>\n",
       "      <th>Insulin</th>\n",
       "      <th>BMI</th>\n",
       "      <th>DiabetesPedigreeFunction</th>\n",
       "      <th>Age</th>\n",
       "      <th>Outcome</th>\n",
       "    </tr>\n",
       "  </thead>\n",
       "  <tbody>\n",
       "    <tr>\n",
       "      <th>0</th>\n",
       "      <td>10.0</td>\n",
       "      <td>115.0</td>\n",
       "      <td>NaN</td>\n",
       "      <td>NaN</td>\n",
       "      <td>NaN</td>\n",
       "      <td>NaN</td>\n",
       "      <td>0.261</td>\n",
       "      <td>30.0</td>\n",
       "      <td>1.0</td>\n",
       "    </tr>\n",
       "    <tr>\n",
       "      <th>1</th>\n",
       "      <td>4.0</td>\n",
       "      <td>76.0</td>\n",
       "      <td>62.0</td>\n",
       "      <td>NaN</td>\n",
       "      <td>NaN</td>\n",
       "      <td>34.0</td>\n",
       "      <td>0.391</td>\n",
       "      <td>25.0</td>\n",
       "      <td>0.0</td>\n",
       "    </tr>\n",
       "    <tr>\n",
       "      <th>2</th>\n",
       "      <td>2.0</td>\n",
       "      <td>142.0</td>\n",
       "      <td>82.0</td>\n",
       "      <td>18.0</td>\n",
       "      <td>64.0</td>\n",
       "      <td>24.7</td>\n",
       "      <td>0.761</td>\n",
       "      <td>21.0</td>\n",
       "      <td>0.0</td>\n",
       "    </tr>\n",
       "    <tr>\n",
       "      <th>3</th>\n",
       "      <td>1.0</td>\n",
       "      <td>157.0</td>\n",
       "      <td>72.0</td>\n",
       "      <td>21.0</td>\n",
       "      <td>168.0</td>\n",
       "      <td>25.6</td>\n",
       "      <td>0.123</td>\n",
       "      <td>24.0</td>\n",
       "      <td>0.0</td>\n",
       "    </tr>\n",
       "    <tr>\n",
       "      <th>4</th>\n",
       "      <td>5.0</td>\n",
       "      <td>97.0</td>\n",
       "      <td>76.0</td>\n",
       "      <td>27.0</td>\n",
       "      <td>NaN</td>\n",
       "      <td>35.6</td>\n",
       "      <td>0.378</td>\n",
       "      <td>52.0</td>\n",
       "      <td>1.0</td>\n",
       "    </tr>\n",
       "  </tbody>\n",
       "</table>\n",
       "</div>"
      ],
      "text/plain": [
       "   Pregnancies  Glucose  BloodPressure  SkinThickness  Insulin   BMI  \\\n",
       "0         10.0    115.0            NaN            NaN      NaN   NaN   \n",
       "1          4.0     76.0           62.0            NaN      NaN  34.0   \n",
       "2          2.0    142.0           82.0           18.0     64.0  24.7   \n",
       "3          1.0    157.0           72.0           21.0    168.0  25.6   \n",
       "4          5.0     97.0           76.0           27.0      NaN  35.6   \n",
       "\n",
       "   DiabetesPedigreeFunction   Age  Outcome  \n",
       "0                     0.261  30.0      1.0  \n",
       "1                     0.391  25.0      0.0  \n",
       "2                     0.761  21.0      0.0  \n",
       "3                     0.123  24.0      0.0  \n",
       "4                     0.378  52.0      1.0  "
      ]
     },
     "execution_count": 86,
     "metadata": {},
     "output_type": "execute_result"
    }
   ],
   "source": [
    "data_m = pd.read_csv('input/Diabetes_MissingvalesLabeled.csv')\n",
    "ground = data_m['Outcome']\n",
    "data_temp = data_m.drop(['Outcome'], axis=1)\n",
    "x_train, x_test, y_train, y_test = train_test_split(data_temp, ground, test_size=0.2)\n",
    "data = pd.DataFrame(np.hstack((x_train, y_train[:,np.newaxis])), columns = data_m.columns)\n",
    "data.head()"
   ]
  },
  {
   "cell_type": "code",
   "execution_count": 87,
   "metadata": {
    "collapsed": false
   },
   "outputs": [
    {
     "name": "stdout",
     "output_type": "stream",
     "text": [
      "(306, 5)\n"
     ]
    },
    {
     "data": {
      "text/html": [
       "<div>\n",
       "<style>\n",
       "    .dataframe thead tr:only-child th {\n",
       "        text-align: right;\n",
       "    }\n",
       "\n",
       "    .dataframe thead th {\n",
       "        text-align: left;\n",
       "    }\n",
       "\n",
       "    .dataframe tbody tr th {\n",
       "        vertical-align: top;\n",
       "    }\n",
       "</style>\n",
       "<table border=\"1\" class=\"dataframe\">\n",
       "  <thead>\n",
       "    <tr style=\"text-align: right;\">\n",
       "      <th></th>\n",
       "      <th>PC1</th>\n",
       "      <th>PC2</th>\n",
       "      <th>PC3</th>\n",
       "      <th>PC4</th>\n",
       "      <th>Outcome</th>\n",
       "    </tr>\n",
       "  </thead>\n",
       "  <tbody>\n",
       "    <tr>\n",
       "      <th>0</th>\n",
       "      <td>86.678042</td>\n",
       "      <td>-141.866213</td>\n",
       "      <td>59.512148</td>\n",
       "      <td>12.672200</td>\n",
       "      <td>0.0</td>\n",
       "    </tr>\n",
       "    <tr>\n",
       "      <th>1</th>\n",
       "      <td>191.721254</td>\n",
       "      <td>-139.727914</td>\n",
       "      <td>52.242278</td>\n",
       "      <td>7.729227</td>\n",
       "      <td>0.0</td>\n",
       "    </tr>\n",
       "    <tr>\n",
       "      <th>2</th>\n",
       "      <td>201.028855</td>\n",
       "      <td>-121.693970</td>\n",
       "      <td>58.339153</td>\n",
       "      <td>6.020869</td>\n",
       "      <td>0.0</td>\n",
       "    </tr>\n",
       "    <tr>\n",
       "      <th>3</th>\n",
       "      <td>82.924360</td>\n",
       "      <td>-142.751222</td>\n",
       "      <td>81.948316</td>\n",
       "      <td>25.339636</td>\n",
       "      <td>0.0</td>\n",
       "    </tr>\n",
       "    <tr>\n",
       "      <th>4</th>\n",
       "      <td>79.423896</td>\n",
       "      <td>-134.169910</td>\n",
       "      <td>90.616900</td>\n",
       "      <td>5.409974</td>\n",
       "      <td>1.0</td>\n",
       "    </tr>\n",
       "  </tbody>\n",
       "</table>\n",
       "</div>"
      ],
      "text/plain": [
       "          PC1         PC2        PC3        PC4  Outcome\n",
       "0   86.678042 -141.866213  59.512148  12.672200      0.0\n",
       "1  191.721254 -139.727914  52.242278   7.729227      0.0\n",
       "2  201.028855 -121.693970  58.339153   6.020869      0.0\n",
       "3   82.924360 -142.751222  81.948316  25.339636      0.0\n",
       "4   79.423896 -134.169910  90.616900   5.409974      1.0"
      ]
     },
     "execution_count": 87,
     "metadata": {},
     "output_type": "execute_result"
    }
   ],
   "source": [
    "\n",
    "# Recreate dataset with PCA\n",
    "import Utilities.mypca as PCA\n",
    "datanoNan = data.dropna(axis=0)\n",
    "PCA_ytrain = datanoNan[\"Outcome\"]\n",
    "data_temp = datanoNan.drop([\"Outcome\"], axis=1)\n",
    "pca = PCA.MyPCA()\n",
    "pca.fit(data_temp)\n",
    "PCA_xtrain = pca.fit_transform(4, data_temp)\n",
    "PCA_data = pd.DataFrame(PCA_xtrain, columns = ['PC1','PC2','PC3','PC4'])\n",
    "PCA_data[\"Outcome\"] = PCA_ytrain.values\n",
    "print(PCA_data.shape)\n",
    "PCA_data.head()"
   ]
  },
  {
   "cell_type": "code",
   "execution_count": 88,
   "metadata": {
    "collapsed": false
   },
   "outputs": [
    {
     "name": "stdout",
     "output_type": "stream",
     "text": [
      "(432, 6)\n"
     ]
    },
    {
     "data": {
      "text/html": [
       "<div>\n",
       "<style>\n",
       "    .dataframe thead tr:only-child th {\n",
       "        text-align: right;\n",
       "    }\n",
       "\n",
       "    .dataframe thead th {\n",
       "        text-align: left;\n",
       "    }\n",
       "\n",
       "    .dataframe tbody tr th {\n",
       "        vertical-align: top;\n",
       "    }\n",
       "</style>\n",
       "<table border=\"1\" class=\"dataframe\">\n",
       "  <thead>\n",
       "    <tr style=\"text-align: right;\">\n",
       "      <th></th>\n",
       "      <th>Glucose</th>\n",
       "      <th>SkinThickness</th>\n",
       "      <th>BMI</th>\n",
       "      <th>Age</th>\n",
       "      <th>DiabetesPedigreeFunction</th>\n",
       "      <th>Outcome</th>\n",
       "    </tr>\n",
       "  </thead>\n",
       "  <tbody>\n",
       "    <tr>\n",
       "      <th>2</th>\n",
       "      <td>142.0</td>\n",
       "      <td>18.0</td>\n",
       "      <td>24.7</td>\n",
       "      <td>21.0</td>\n",
       "      <td>0.761</td>\n",
       "      <td>0.0</td>\n",
       "    </tr>\n",
       "    <tr>\n",
       "      <th>3</th>\n",
       "      <td>157.0</td>\n",
       "      <td>21.0</td>\n",
       "      <td>25.6</td>\n",
       "      <td>24.0</td>\n",
       "      <td>0.123</td>\n",
       "      <td>0.0</td>\n",
       "    </tr>\n",
       "    <tr>\n",
       "      <th>4</th>\n",
       "      <td>97.0</td>\n",
       "      <td>27.0</td>\n",
       "      <td>35.6</td>\n",
       "      <td>52.0</td>\n",
       "      <td>0.378</td>\n",
       "      <td>1.0</td>\n",
       "    </tr>\n",
       "    <tr>\n",
       "      <th>5</th>\n",
       "      <td>90.0</td>\n",
       "      <td>32.0</td>\n",
       "      <td>34.9</td>\n",
       "      <td>56.0</td>\n",
       "      <td>0.825</td>\n",
       "      <td>1.0</td>\n",
       "    </tr>\n",
       "    <tr>\n",
       "      <th>6</th>\n",
       "      <td>140.0</td>\n",
       "      <td>26.0</td>\n",
       "      <td>24.1</td>\n",
       "      <td>23.0</td>\n",
       "      <td>0.828</td>\n",
       "      <td>0.0</td>\n",
       "    </tr>\n",
       "  </tbody>\n",
       "</table>\n",
       "</div>"
      ],
      "text/plain": [
       "   Glucose  SkinThickness   BMI   Age  DiabetesPedigreeFunction  Outcome\n",
       "2    142.0           18.0  24.7  21.0                     0.761      0.0\n",
       "3    157.0           21.0  25.6  24.0                     0.123      0.0\n",
       "4     97.0           27.0  35.6  52.0                     0.378      1.0\n",
       "5     90.0           32.0  34.9  56.0                     0.825      1.0\n",
       "6    140.0           26.0  24.1  23.0                     0.828      0.0"
      ]
     },
     "execution_count": 88,
     "metadata": {},
     "output_type": "execute_result"
    }
   ],
   "source": [
    "BFE_cols = [\"Glucose\", \"SkinThickness\", \"BMI\", \"Age\", \"DiabetesPedigreeFunction\"]\n",
    "BFE_data = data[BFE_cols + [\"Outcome\"]]\n",
    "BFE_data.head()\n",
    "BFE_data = BFE_data.dropna(axis=0)\n",
    "BFE_xtrain = BFE_data[BFE_cols]\n",
    "BFE_ytrain = BFE_data[\"Outcome\"]\n",
    "print(BFE_data.shape)\n",
    "BFE_data.head()"
   ]
  },
  {
   "cell_type": "markdown",
   "metadata": {},
   "source": [
    "# Baseline with Logistic Regression"
   ]
  },
  {
   "cell_type": "markdown",
   "metadata": {},
   "source": [
    "Lets establish a baseline for the problem by using 10 fold cross validation and the, probably, simplest classification method out there: Logistic regression. "
   ]
  },
  {
   "cell_type": "code",
   "execution_count": 135,
   "metadata": {
    "collapsed": false
   },
   "outputs": [
    {
     "name": "stdout",
     "output_type": "stream",
     "text": [
      "0.751505376344\n"
     ]
    }
   ],
   "source": [
    "kfold = KFold(n_splits=10, random_state=22)\n",
    "PCA_xtrain_normalized = PCA_xtrain / PCA_xtrain.max(axis=0)\n",
    "Baseline_PCA_result = cross_val_score(LogisticRegression(), PCA_xtrain_normalized, PCA_ytrain, cv = kfold,scoring = \"accuracy\")\n",
    "Baseline_PCA_score = Baseline_PCA_result.mean()\n",
    "print(Baseline_PCA_score)"
   ]
  },
  {
   "cell_type": "code",
   "execution_count": 129,
   "metadata": {
    "collapsed": false
   },
   "outputs": [
    {
     "name": "stdout",
     "output_type": "stream",
     "text": [
      "0.771088794926\n"
     ]
    }
   ],
   "source": [
    "Baseline_BFE_result = cross_val_score(LogisticRegression(), BFE_xtrain, BFE_ytrain, cv = kfold,scoring = \"accuracy\")\n",
    "Baseline_BFE_score = Baseline_BFE_result.mean()\n",
    "print(Baseline_BFE_score)"
   ]
  },
  {
   "cell_type": "code",
   "execution_count": 128,
   "metadata": {
    "collapsed": false
   },
   "outputs": [
    {
     "data": {
      "text/plain": [
       "[<matplotlib.text.Text at 0x118cb4550>, <matplotlib.text.Text at 0x118cbf080>]"
      ]
     },
     "execution_count": 128,
     "metadata": {},
     "output_type": "execute_result"
    },
    {
     "data": {
      "image/png": "[encoded data removed]",
      "text/plain": [
       "<matplotlib.figure.Figure at 0x118c8f4a8>"
      ]
     },
     "metadata": {},
     "output_type": "display_data"
    }
   ],
   "source": [
    "np.vstack((np.transpose(Baseline_PCA_result), np.transpose(Baseline_BFE_result)))\n",
    "res = []\n",
    "res.append(Baseline_PCA_result)\n",
    "res.append(Baseline_BFE_result)\n",
    "ax = sns.boxplot(data=res)\n",
    "ax.set_xticklabels([\"PCA\",\"BFE\"])"
   ]
  },
  {
   "cell_type": "markdown",
   "metadata": {},
   "source": [
    "It looks like PCA is not doing that great in comparison with the attributes extracted using BFE. The accuracy of logistic regression on PCA is centered around 0.74 whereas the accuracy for BFE is centered around 0.77. So we will drop the PCA dataset."
   ]
  },
  {
   "cell_type": "markdown",
   "metadata": {},
   "source": [
    "# Building our model"
   ]
  },
  {
   "cell_type": "code",
   "execution_count": null,
   "metadata": {
    "collapsed": true
   },
   "outputs": [],
   "source": []
  },
  {
   "cell_type": "code",
   "execution_count": null,
   "metadata": {
    "collapsed": true
   },
   "outputs": [],
   "source": []
  },
  {
   "cell_type": "code",
   "execution_count": null,
   "metadata": {
    "collapsed": true
   },
   "outputs": [],
   "source": []
  }
 ],
 "metadata": {
  "kernelspec": {
   "display_name": "Python 3",
   "language": "python",
   "name": "python3"
  },
  "language_info": {
   "codemirror_mode": {
    "name": "ipython",
    "version": 3
   },
   "file_extension": ".py",
   "mimetype": "text/x-python",
   "name": "python",
   "nbconvert_exporter": "python",
   "pygments_lexer": "ipython3",
   "version": "3.5.2"
  }
 },
 "nbformat": 4,
 "nbformat_minor": 0
}
